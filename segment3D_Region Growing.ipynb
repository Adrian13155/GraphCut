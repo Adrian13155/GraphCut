{
 "cells": [
  {
   "cell_type": "code",
   "execution_count": 13,
   "id": "f3d58f11",
   "metadata": {},
   "outputs": [],
   "source": [
    "import open3d as o3d\n",
    "import numpy as np\n",
    "from sklearn.neighbors import NearestNeighbors\n",
    "import os\n",
    "import random"
   ]
  },
  {
   "cell_type": "code",
   "execution_count": 14,
   "id": "d7c7379c",
   "metadata": {},
   "outputs": [],
   "source": [
    "datasetPath = \"/PublicData/CadDataset/a1.0.0_10\"\n",
    "part = \"140294_f659b875\"\n",
    "name = \"assembly.obj\"\n",
    "file_path = os.path.join(datasetPath,part,name)\n",
    "num_sample_points = 50000          # 采样点数\n",
    "normal_radius = 0.02                # 法向量估计半径\n",
    "normal_max_nn = 30                  # 法向量估计最大邻居数\n",
    "angle_threshold_deg = 15            # 区域生长法向量夹角阈值（度）\n",
    "k_neighbors = 30                    # k-NN中的k值\n",
    "min_cluster_size = 100              # 过滤小簇阈值"
   ]
  },
  {
   "cell_type": "code",
   "execution_count": 15,
   "id": "ed74cce9",
   "metadata": {},
   "outputs": [
    {
     "name": "stdout",
     "output_type": "stream",
     "text": [
      "[INFO] 网格顶点数: 111342, 面数: 122916\n",
      "[INFO] 采样点数: 50000\n"
     ]
    }
   ],
   "source": [
    "mesh = o3d.io.read_triangle_mesh(file_path)\n",
    "mesh.compute_vertex_normals()\n",
    "\n",
    "print(f\"[INFO] 网格顶点数: {len(mesh.vertices)}, 面数: {len(mesh.triangles)}\")\n",
    "pcd = mesh.sample_points_poisson_disk(number_of_points=num_sample_points)\n",
    "print(f\"[INFO] 采样点数: {len(pcd.points)}\")"
   ]
  },
  {
   "cell_type": "code",
   "execution_count": 16,
   "id": "bd9e7e01",
   "metadata": {},
   "outputs": [],
   "source": [
    "# ===== 2. 估计法向量 =====\n",
    "pcd.estimate_normals(\n",
    "    search_param=o3d.geometry.KDTreeSearchParamHybrid(\n",
    "        radius=normal_radius, \n",
    "        max_nn=max_nn\n",
    "    )\n",
    ")"
   ]
  },
  {
   "cell_type": "code",
   "execution_count": 17,
   "id": "ac21a9b5",
   "metadata": {},
   "outputs": [],
   "source": [
    "# 3. 自定义区域生长分割函数\n",
    "def region_growing(pcd, angle_threshold_deg=15, k=30, min_cluster_size=100):\n",
    "    points = np.asarray(pcd.points)\n",
    "    normals = np.asarray(pcd.normals)\n",
    "    N = len(points)\n",
    "    \n",
    "    nbrs = NearestNeighbors(n_neighbors=k+1).fit(points)\n",
    "    _, indices = nbrs.kneighbors(points)\n",
    "    \n",
    "    labels = -np.ones(N, dtype=int)\n",
    "    cluster_id = 0\n",
    "    \n",
    "    for i in range(N):\n",
    "        if labels[i] != -1:\n",
    "            continue\n",
    "        queue = [i]\n",
    "        labels[i] = cluster_id\n",
    "        while queue:\n",
    "            current = queue.pop(0)\n",
    "            for neighbor_idx in indices[current][1:]:\n",
    "                if labels[neighbor_idx] != -1:\n",
    "                    continue\n",
    "                cos_angle = np.clip(np.dot(normals[current], normals[neighbor_idx]), -1.0, 1.0)\n",
    "                angle = np.arccos(cos_angle) * 180.0 / np.pi\n",
    "                if angle < angle_threshold_deg:\n",
    "                    labels[neighbor_idx] = cluster_id\n",
    "                    queue.append(neighbor_idx)\n",
    "        cluster_id += 1\n",
    "    \n",
    "    # 过滤小簇\n",
    "    unique, counts = np.unique(labels, return_counts=True)\n",
    "    for u, c in zip(unique, counts):\n",
    "        if c < min_cluster_size:\n",
    "            labels[labels == u] = -1\n",
    "    return labels"
   ]
  },
  {
   "cell_type": "code",
   "execution_count": 18,
   "id": "63b8b018",
   "metadata": {},
   "outputs": [
    {
     "name": "stdout",
     "output_type": "stream",
     "text": [
      "Found 3 clusters\n"
     ]
    }
   ],
   "source": [
    "# 4. 执行分割\n",
    "labels = region_growing(pcd, angle_threshold_deg, k_neighbors, min_cluster_size)\n",
    "num_clusters = len(set(labels)) - (1 if -1 in labels else 0)\n",
    "print(f\"Found {num_clusters} clusters\")"
   ]
  },
  {
   "cell_type": "code",
   "execution_count": 19,
   "id": "5d823a52",
   "metadata": {},
   "outputs": [],
   "source": [
    "# 5. 给每个cluster赋随机颜色，噪声设黑色\n",
    "colors = np.zeros((len(labels), 3))\n",
    "for label in np.unique(labels):\n",
    "    if label == -1:\n",
    "        colors[labels == label] = [0, 0, 0]\n",
    "    else:\n",
    "        colors[labels == label] = [random.random(), random.random(), random.random()]\n",
    "\n",
    "pcd.colors = o3d.utility.Vector3dVector(colors)"
   ]
  },
  {
   "cell_type": "code",
   "execution_count": 21,
   "id": "a0b95b0f",
   "metadata": {},
   "outputs": [
    {
     "data": {
      "text/plain": [
       "True"
      ]
     },
     "execution_count": 21,
     "metadata": {},
     "output_type": "execute_result"
    }
   ],
   "source": [
    "# 6. 保存和显示结果\n",
    "o3d.io.write_point_cloud(\"segmented_region_growing_custom2.ply\", pcd)"
   ]
  }
 ],
 "metadata": {
  "kernelspec": {
   "display_name": "pytorch",
   "language": "python",
   "name": "python3"
  },
  "language_info": {
   "codemirror_mode": {
    "name": "ipython",
    "version": 3
   },
   "file_extension": ".py",
   "mimetype": "text/x-python",
   "name": "python",
   "nbconvert_exporter": "python",
   "pygments_lexer": "ipython3",
   "version": "3.8.19"
  }
 },
 "nbformat": 4,
 "nbformat_minor": 5
}
