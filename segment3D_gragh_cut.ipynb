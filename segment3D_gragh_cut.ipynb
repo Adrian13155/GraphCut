{
 "cells": [
  {
   "cell_type": "code",
   "execution_count": 1,
   "id": "3830d577",
   "metadata": {},
   "outputs": [
    {
     "name": "stdout",
     "output_type": "stream",
     "text": [
      "Jupyter environment detected. Enabling Open3D WebVisualizer.\n",
      "[Open3D INFO] WebRTC GUI backend enabled.\n",
      "[Open3D INFO] WebRTCWindowSystem: HTTP handshake server disabled.\n"
     ]
    }
   ],
   "source": [
    "import open3d as o3d\n",
    "import os\n",
    "import numpy as np\n",
    "from sklearn.neighbors import kneighbors_graph\n",
    "import maxflow\n",
    "import matplotlib.pyplot as plt"
   ]
  },
  {
   "cell_type": "code",
   "execution_count": 2,
   "id": "217f3009",
   "metadata": {},
   "outputs": [],
   "source": [
    "datasetPath = \"/PublicData/CadDataset/a1.0.0_10\"\n",
    "part = \"140294_f659b875\"\n",
    "name = \"assembly.obj\"\n",
    "file_path = os.path.join(datasetPath,part,name)"
   ]
  },
  {
   "cell_type": "code",
   "execution_count": 3,
   "id": "805adfd8",
   "metadata": {},
   "outputs": [
    {
     "name": "stdout",
     "output_type": "stream",
     "text": [
      "读取网格顶点数: 111342\n"
     ]
    }
   ],
   "source": [
    "# 读取网格\n",
    "mesh = o3d.io.read_triangle_mesh(file_path)\n",
    "if not mesh.has_vertices():\n",
    "    raise RuntimeError(\"网格无顶点\")\n",
    "points = np.asarray(mesh.vertices)\n",
    "print(f\"读取网格顶点数: {len(points)}\")"
   ]
  },
  {
   "cell_type": "code",
   "execution_count": 4,
   "id": "502480e8",
   "metadata": {},
   "outputs": [],
   "source": [
    "def graphcut_pointcloud_segmentation(points, k=8):\n",
    "    N = points.shape[0]\n",
    "    print(f\"点数: {N}\")\n",
    "\n",
    "    # 1. 构建k近邻图\n",
    "    connectivity = kneighbors_graph(points, n_neighbors=k, mode='connectivity', include_self=False)\n",
    "    connectivity = connectivity.tocoo()\n",
    "    print(f\"邻接边数: {connectivity.nnz}\")\n",
    "\n",
    "    # 2. 创建最大流图\n",
    "    g = maxflow.Graph[float](N, connectivity.nnz)\n",
    "    nodes = g.add_nodes(N)\n",
    "\n",
    "    # 3. 添加边，权重基于距离（距离越小权重越大）\n",
    "    row, col = connectivity.row, connectivity.col\n",
    "    for i, j in zip(row, col):\n",
    "        dist = np.linalg.norm(points[i] - points[j])\n",
    "        weight = np.exp(-dist * 10)\n",
    "        g.add_edge(i, j, weight, weight)\n",
    "\n",
    "    # 4. 添加终端边，基于Z坐标简易Data term\n",
    "    z = points[:, 2]\n",
    "    median_z = np.median(z)\n",
    "    for i in range(N):\n",
    "        source_cap = max(0, median_z - z[i])  # 越低越靠近source（标签0）\n",
    "        sink_cap = max(0, z[i] - median_z)    # 越高越靠近sink（标签1）\n",
    "        g.add_tedge(i, source_cap, sink_cap)\n",
    "\n",
    "    # 5. 计算最大流/最小割\n",
    "    flow = g.maxflow()\n",
    "    print(f\"最大流: {flow}\")\n",
    "\n",
    "    # 6. 获取标签\n",
    "    labels = np.array([g.get_segment(i) for i in range(N)])\n",
    "    return labels"
   ]
  },
  {
   "cell_type": "code",
   "execution_count": 5,
   "id": "d2cb1d0a",
   "metadata": {},
   "outputs": [
    {
     "name": "stdout",
     "output_type": "stream",
     "text": [
      "点数: 111342\n",
      "邻接边数: 890736\n",
      "最大流: 0.0\n",
      "分割出 2 个类别\n"
     ]
    }
   ],
   "source": [
    "# 图割分割\n",
    "labels = graphcut_pointcloud_segmentation(points, k=8)\n",
    "print(f\"分割出 {labels.max() + 1} 个类别\")"
   ]
  },
  {
   "cell_type": "code",
   "execution_count": 6,
   "id": "4a0fab18",
   "metadata": {},
   "outputs": [],
   "source": [
    "# 顶点染色\n",
    "num_clusters = labels.max() + 1\n",
    "colors = np.zeros((len(labels), 3))\n",
    "cmap = plt.get_cmap(\"tab10\")\n",
    "for i in range(num_clusters):\n",
    "    colors[labels == i] = cmap(i / max(1, num_clusters - 1))[:3]\n",
    "mesh.vertex_colors = o3d.utility.Vector3dVector(colors)"
   ]
  },
  {
   "cell_type": "code",
   "execution_count": 7,
   "id": "293865af",
   "metadata": {},
   "outputs": [
    {
     "data": {
      "text/plain": [
       "True"
      ]
     },
     "execution_count": 7,
     "metadata": {},
     "output_type": "execute_result"
    }
   ],
   "source": [
    "o3d.io.write_triangle_mesh(\"graphcut_segment.ply\",mesh)"
   ]
  }
 ],
 "metadata": {
  "kernelspec": {
   "display_name": "pytorch",
   "language": "python",
   "name": "python3"
  },
  "language_info": {
   "codemirror_mode": {
    "name": "ipython",
    "version": 3
   },
   "file_extension": ".py",
   "mimetype": "text/x-python",
   "name": "python",
   "nbconvert_exporter": "python",
   "pygments_lexer": "ipython3",
   "version": "3.8.19"
  }
 },
 "nbformat": 4,
 "nbformat_minor": 5
}
