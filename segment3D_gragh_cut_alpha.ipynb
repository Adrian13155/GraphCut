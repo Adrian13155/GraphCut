{
 "cells": [
  {
   "cell_type": "code",
   "execution_count": 28,
   "id": "10fc6068",
   "metadata": {},
   "outputs": [],
   "source": [
    "import open3d as o3d\n",
    "import os\n",
    "import numpy as np\n",
    "from sklearn.neighbors import kneighbors_graph\n",
    "import maxflow\n",
    "import matplotlib.pyplot as plt"
   ]
  },
  {
   "cell_type": "code",
   "execution_count": 29,
   "id": "90183845",
   "metadata": {},
   "outputs": [],
   "source": [
    "datasetPath = \"/PublicData/CadDataset/a1.0.0_10\"\n",
    "part = \"139661_105bb47a\"#\"140294_f659b875\"\n",
    "name = \"assembly.obj\"\n",
    "file_path = os.path.join(datasetPath,part,name)"
   ]
  },
  {
   "cell_type": "code",
   "execution_count": 30,
   "id": "cb0d9347",
   "metadata": {},
   "outputs": [
    {
     "name": "stdout",
     "output_type": "stream",
     "text": [
      "读取网格顶点数: 13990\n"
     ]
    }
   ],
   "source": [
    "# 读取网格\n",
    "mesh = o3d.io.read_triangle_mesh(file_path)\n",
    "if not mesh.has_vertices():\n",
    "    raise RuntimeError(\"网格无顶点\")\n",
    "points = np.asarray(mesh.vertices)\n",
    "print(f\"读取网格顶点数: {len(points)}\")"
   ]
  },
  {
   "cell_type": "code",
   "execution_count": 31,
   "id": "e064b7e9",
   "metadata": {},
   "outputs": [],
   "source": [
    "def construct_graph(points, k=8):\n",
    "    # 构造邻接图，返回 COO格式的行列索引和边权重\n",
    "    connectivity = kneighbors_graph(points, n_neighbors=k, mode='connectivity', include_self=False).tocoo()\n",
    "    row, col = connectivity.row, connectivity.col\n",
    "    edges = []\n",
    "    weights = []\n",
    "    for i, j in zip(row, col):\n",
    "        dist = np.linalg.norm(points[i] - points[j])\n",
    "        weight = np.exp(-dist * 10)  # 距离越近权重越大\n",
    "        edges.append((i, j))\n",
    "        weights.append(weight)\n",
    "    return edges, weights"
   ]
  },
  {
   "cell_type": "code",
   "execution_count": 32,
   "id": "6535ca33",
   "metadata": {},
   "outputs": [],
   "source": [
    "edges, weights = construct_graph(points, 16)"
   ]
  },
  {
   "cell_type": "code",
   "execution_count": 33,
   "id": "3809265a",
   "metadata": {},
   "outputs": [],
   "source": [
    "def compute_data_cost(points, num_labels):\n",
    "    # 简单模拟数据项，基于Z值离散成多个类别的距离作为代价\n",
    "    # 实际可替换为你的先验置信度等\n",
    "    z = points[:, 2]\n",
    "    z_min, z_max = z.min(), z.max()\n",
    "    labels_pos = np.linspace(z_min, z_max, num_labels)\n",
    "    data_cost = np.zeros((len(points), num_labels))\n",
    "    for i in range(num_labels):\n",
    "        data_cost[:, i] = np.abs(z - labels_pos[i])\n",
    "    # 归一化\n",
    "    data_cost /= data_cost.max()\n",
    "    return data_cost"
   ]
  },
  {
   "cell_type": "code",
   "execution_count": 34,
   "id": "fe88b557",
   "metadata": {},
   "outputs": [],
   "source": [
    "data_cost = compute_data_cost(points, num_labels=4)"
   ]
  },
  {
   "cell_type": "code",
   "execution_count": 35,
   "id": "b5296200",
   "metadata": {},
   "outputs": [],
   "source": [
    "def alpha_expansion(points, edges, weights, data_cost, max_iter=10):\n",
    "    N, num_labels = data_cost.shape\n",
    "    # 初始化标签（比如全部归0）\n",
    "    labels = np.zeros(N, dtype=np.int32)\n",
    "\n",
    "    for it in range(max_iter):\n",
    "        print(f\"迭代 {it+1}/{max_iter}\")\n",
    "        changed = False\n",
    "        for alpha in range(num_labels):\n",
    "            # 构造二分类图割问题，标签为 alpha 和 当前标签\n",
    "            g = maxflow.Graph[float]()\n",
    "            nodes = g.add_nodes(N)\n",
    "\n",
    "            # 添加终端边（data term）\n",
    "            for i in range(N):\n",
    "                if labels[i] == alpha:\n",
    "                    g.add_tedge(i, data_cost[i, alpha], float('inf'))  # 保持alpha标签的点不被改\n",
    "                else:\n",
    "                    g.add_tedge(i, data_cost[i, alpha], data_cost[i, labels[i]])\n",
    "\n",
    "            # 添加邻边（smoothness term）\n",
    "            for (i, j), w in zip(edges, weights):\n",
    "                if labels[i] == labels[j]:\n",
    "                    cap_same = 0\n",
    "                else:\n",
    "                    cap_same = 1  # 简单平滑项，惩罚不同标签邻接\n",
    "                # 对α扩展构造边权重\n",
    "                cap_i = 1 if labels[i] != alpha else 0\n",
    "                cap_j = 1 if labels[j] != alpha else 0\n",
    "                weight_ij = w\n",
    "\n",
    "                # 边权重对应下面几种情况：\n",
    "                # i标签为alpha, j标签为alpha: 不存在，因为一个点只能选一个标签\n",
    "                # 这里简单设置边容量为 weight_ij * (cap_i + cap_j)\n",
    "                g.add_edge(i, j, weight_ij * cap_i, weight_ij * cap_j)\n",
    "\n",
    "            flow = g.maxflow()\n",
    "            # 获取二分类结果\n",
    "            new_labels = np.array([alpha if g.get_segment(i) == 0 else labels[i] for i in range(N)])\n",
    "\n",
    "            if not np.array_equal(new_labels, labels):\n",
    "                changed = True\n",
    "                labels = new_labels\n",
    "\n",
    "        if not changed:\n",
    "            print(\"收敛，提前退出\")\n",
    "            break\n",
    "\n",
    "    return labels"
   ]
  },
  {
   "cell_type": "code",
   "execution_count": 36,
   "id": "0a6f878a",
   "metadata": {},
   "outputs": [
    {
     "name": "stdout",
     "output_type": "stream",
     "text": [
      "迭代 1/10\n",
      "迭代 2/10\n",
      "收敛，提前退出\n",
      "分割类别数: 4\n"
     ]
    }
   ],
   "source": [
    "labels = alpha_expansion(points, edges, weights, data_cost, max_iter=10)\n",
    "print(\"分割类别数:\", labels.max() + 1)"
   ]
  },
  {
   "cell_type": "code",
   "execution_count": 37,
   "id": "3a50706c",
   "metadata": {},
   "outputs": [],
   "source": [
    "# 顶点染色\n",
    "num_clusters = labels.max() + 1\n",
    "colors = np.zeros((len(labels), 3))\n",
    "cmap = plt.get_cmap(\"tab10\")\n",
    "for i in range(num_clusters):\n",
    "    colors[labels == i] = cmap(i / max(1, num_clusters - 1))[:3]\n",
    "mesh.vertex_colors = o3d.utility.Vector3dVector(colors)"
   ]
  },
  {
   "cell_type": "code",
   "execution_count": 38,
   "id": "c8b7b76a",
   "metadata": {},
   "outputs": [
    {
     "data": {
      "text/plain": [
       "True"
      ]
     },
     "execution_count": 38,
     "metadata": {},
     "output_type": "execute_result"
    }
   ],
   "source": [
    "o3d.io.write_triangle_mesh(\"graphcut_alpha_segment2_k=16.ply\",mesh)"
   ]
  }
 ],
 "metadata": {
  "kernelspec": {
   "display_name": "pytorch",
   "language": "python",
   "name": "python3"
  },
  "language_info": {
   "codemirror_mode": {
    "name": "ipython",
    "version": 3
   },
   "file_extension": ".py",
   "mimetype": "text/x-python",
   "name": "python",
   "nbconvert_exporter": "python",
   "pygments_lexer": "ipython3",
   "version": "3.8.19"
  }
 },
 "nbformat": 4,
 "nbformat_minor": 5
}
