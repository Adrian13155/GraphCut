{
 "cells": [
  {
   "cell_type": "code",
   "execution_count": 47,
   "id": "f3d58f11",
   "metadata": {},
   "outputs": [],
   "source": [
    "import open3d as o3d\n",
    "import numpy as np\n",
    "from sklearn.neighbors import NearestNeighbors\n",
    "import os"
   ]
  },
  {
   "cell_type": "code",
   "execution_count": null,
   "id": "d7c7379c",
   "metadata": {},
   "outputs": [],
   "source": [
    "datasetPath = \"/PublicData/CadDataset/a1.0.0_10\"\n",
    "part = \"140294_f659b875\"\n",
    "name = \"assembly.obj\"\n",
    "file_path = os.path.join(datasetPath,part,name)"
   ]
  },
  {
   "cell_type": "code",
   "execution_count": null,
   "id": "ed74cce9",
   "metadata": {},
   "outputs": [
    {
     "data": {
      "text/plain": [
       "TriangleMesh with 111342 points and 122916 triangles."
      ]
     },
     "execution_count": 45,
     "metadata": {},
     "output_type": "execute_result"
    }
   ],
   "source": [
    "mesh = o3d.io.read_triangle_mesh(file_path)\n",
    "print(f\"Loaded mesh: {len(mesh.vertices)} vertices, {len(mesh.triangles)} faces\")"
   ]
  },
  {
   "cell_type": "code",
   "execution_count": 46,
   "id": "bd9e7e01",
   "metadata": {},
   "outputs": [
    {
     "name": "stdout",
     "output_type": "stream",
     "text": [
      "Sampled 300000 points\n",
      "Downsampled to 300000 points\n"
     ]
    }
   ],
   "source": [
    "# 如果没有颜色，给每个顶点一个默认灰色\n",
    "if not mesh.has_vertex_colors():\n",
    "    import numpy as np\n",
    "    mesh.vertex_colors = o3d.utility.Vector3dVector(np.ones((len(mesh.vertices), 3)) * 0.5)\n"
   ]
  },
  {
   "cell_type": "code",
   "execution_count": 33,
   "id": "ac21a9b5",
   "metadata": {},
   "outputs": [
    {
     "name": "stdout",
     "output_type": "stream",
     "text": [
      "Sampled 500000 points from mesh\n"
     ]
    }
   ],
   "source": [
    "pcd = mesh.sample_points_uniformly(number_of_points=500000)\n",
    "points = np.asarray(pcd.points)\n",
    "colors = np.asarray(pcd.colors)\n",
    "\n",
    "N = len(points)\n",
    "print(f\"Sampled {N} points from mesh\")"
   ]
  },
  {
   "cell_type": "code",
   "execution_count": 34,
   "id": "5d823a52",
   "metadata": {},
   "outputs": [],
   "source": [
    "# ===== Step 2: 构建 k-NN 邻接图 =====\n",
    "k = 10  # 每个点连接的邻居数\n",
    "nbrs = NearestNeighbors(n_neighbors=k+1, algorithm='kd_tree').fit(points)\n",
    "distances, indices = nbrs.kneighbors(points)"
   ]
  },
  {
   "cell_type": "code",
   "execution_count": 35,
   "id": "2a150f5a",
   "metadata": {},
   "outputs": [],
   "source": [
    "# ===== Step 3: 计算边权重 =====\n",
    "edges = []\n",
    "for i in range(N):\n",
    "    for j in indices[i][1:]:  # 跳过自己\n",
    "        spatial_dist = np.linalg.norm(points[i] - points[j])\n",
    "        color_dist = np.linalg.norm(colors[i] - colors[j])\n",
    "        weight = spatial_dist + 0.5 * color_dist  # 权重 = 空间 + 颜色\n",
    "        edges.append((i, j, weight))"
   ]
  },
  {
   "cell_type": "code",
   "execution_count": 36,
   "id": "a0b95b0f",
   "metadata": {},
   "outputs": [],
   "source": [
    "# ===== Step 4: 简单 Felzenszwalb-like 图合并分割 =====\n",
    "parent = np.arange(N)\n",
    "\n",
    "def find(x):\n",
    "    while parent[x] != x:\n",
    "        parent[x] = parent[parent[x]]\n",
    "        x = parent[x]\n",
    "    return x\n",
    "\n",
    "def union(a, b):\n",
    "    ra, rb = find(a), find(b)\n",
    "    if ra != rb:\n",
    "        parent[rb] = ra\n",
    "\n",
    "# 按权重排序\n",
    "edges.sort(key=lambda x: x[2])\n",
    "\n",
    "threshold = 0.05  # 分割粒度，越小越细\n",
    "for i, j, w in edges:\n",
    "    if w < threshold:\n",
    "        union(i, j)"
   ]
  },
  {
   "cell_type": "code",
   "execution_count": 37,
   "id": "e2a27ded",
   "metadata": {},
   "outputs": [
    {
     "name": "stdout",
     "output_type": "stream",
     "text": [
      "Found 496828 segments\n"
     ]
    }
   ],
   "source": [
    "# ===== Step 5: 生成分割标签并上色 =====\n",
    "labels = np.array([find(i) for i in range(N)])\n",
    "unique_labels = np.unique(labels)\n",
    "print(f\"Found {len(unique_labels)} segments\")\n",
    "\n",
    "# 每个 segment 一个随机颜色\n",
    "label_to_color = {label: np.random.rand(3) for label in unique_labels}\n",
    "seg_colors = np.array([label_to_color[l] for l in labels])\n",
    "\n",
    "# 更新点云颜色\n",
    "pcd.colors = o3d.utility.Vector3dVector(seg_colors)"
   ]
  },
  {
   "cell_type": "code",
   "execution_count": 38,
   "id": "6f8805d2",
   "metadata": {},
   "outputs": [
    {
     "data": {
      "text/plain": [
       "True"
      ]
     },
     "execution_count": 38,
     "metadata": {},
     "output_type": "execute_result"
    }
   ],
   "source": [
    "o3d.io.write_point_cloud(\"segmented_pointcloud2.ply\", pcd)"
   ]
  }
 ],
 "metadata": {
  "kernelspec": {
   "display_name": "pytorch",
   "language": "python",
   "name": "python3"
  },
  "language_info": {
   "codemirror_mode": {
    "name": "ipython",
    "version": 3
   },
   "file_extension": ".py",
   "mimetype": "text/x-python",
   "name": "python",
   "nbconvert_exporter": "python",
   "pygments_lexer": "ipython3",
   "version": "3.8.19"
  }
 },
 "nbformat": 4,
 "nbformat_minor": 5
}
