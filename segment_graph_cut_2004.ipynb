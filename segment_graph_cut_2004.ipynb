{
 "cells": [
  {
   "cell_type": "code",
   "execution_count": 1,
   "id": "9fef8433",
   "metadata": {},
   "outputs": [
    {
     "name": "stdout",
     "output_type": "stream",
     "text": [
      "Jupyter environment detected. Enabling Open3D WebVisualizer.\n",
      "[Open3D INFO] WebRTC GUI backend enabled.\n",
      "[Open3D INFO] WebRTCWindowSystem: HTTP handshake server disabled.\n"
     ]
    }
   ],
   "source": [
    "import open3d as o3d\n",
    "import os\n",
    "import numpy as np\n",
    "from sklearn.neighbors import kneighbors_graph\n",
    "import maxflow\n",
    "import matplotlib.pyplot as plt"
   ]
  },
  {
   "cell_type": "code",
   "execution_count": 11,
   "id": "d43d79e4",
   "metadata": {},
   "outputs": [],
   "source": [
    "datasetPath = \"/PublicData/CadDataset/a1.0.0_10\"\n",
    "# part = \"139661_105bb47a\"#\"140294_f659b875\"\n",
    "part = \"140294_f659b875\"\n",
    "name = \"assembly.obj\"\n",
    "file_path = os.path.join(datasetPath,part,name)"
   ]
  },
  {
   "cell_type": "code",
   "execution_count": 12,
   "id": "7f2a0ca4",
   "metadata": {},
   "outputs": [],
   "source": [
    "class DisjointSet:\n",
    "    def __init__(self, n):\n",
    "        self.parent = np.arange(n)\n",
    "        self.size = np.ones(n, dtype=int)\n",
    "\n",
    "    def find(self, u):\n",
    "        while self.parent[u] != u:\n",
    "            self.parent[u] = self.parent[self.parent[u]]  # 路径压缩\n",
    "            u = self.parent[u]\n",
    "        return u\n",
    "\n",
    "    def union(self, u, v):\n",
    "        u = self.find(u)\n",
    "        v = self.find(v)\n",
    "        if u == v:\n",
    "            return False\n",
    "        if self.size[u] < self.size[v]:\n",
    "            u, v = v, u\n",
    "        self.parent[v] = u\n",
    "        self.size[u] += self.size[v]\n",
    "        return True\n",
    "\n",
    "def segment_pointcloud(points, k=8, c=0.5, min_size=20):\n",
    "    \"\"\"\n",
    "    基于Felzenszwalb图分割思想的点云分割\n",
    "    points: Nx3 numpy array 点云坐标\n",
    "    k: 每个点邻居数量\n",
    "    c: 合并阈值参数，越大区域越少\n",
    "    min_size: 最小区域大小，太小的区域会被合并\n",
    "    \n",
    "    返回 labels: 每个点的分割类别\n",
    "    \"\"\"\n",
    "\n",
    "    N = points.shape[0]\n",
    "\n",
    "    # 1. 计算k近邻图边\n",
    "    from sklearn.neighbors import NearestNeighbors\n",
    "    nbrs = NearestNeighbors(n_neighbors=k+1, algorithm='auto').fit(points)\n",
    "    distances, indices = nbrs.kneighbors(points)\n",
    "\n",
    "    # 构建边列表：(点i, 点j, 权重)\n",
    "    edges = []\n",
    "    for i in range(N):\n",
    "        for j in range(1, k+1):  # indices[i, 0]是自己，跳过\n",
    "            neighbor = indices[i, j]\n",
    "            dist = distances[i, j]\n",
    "            edges.append((i, neighbor, dist))\n",
    "    edges = np.array(edges, dtype=[('p1', int), ('p2', int), ('w', float)])\n",
    "\n",
    "    # 2. 按权重排序边（距离越小越优先合并）\n",
    "    edges.sort(order='w')\n",
    "\n",
    "    # 3. 初始化并查集，每个点自己一个集合\n",
    "    u = DisjointSet(N)\n",
    "\n",
    "    # 4. 初始化阈值函数\n",
    "    threshold = np.full(N, c)\n",
    "\n",
    "    # 5. 依次遍历边，决定是否合并\n",
    "    for edge in edges:\n",
    "        a = u.find(edge['p1'])\n",
    "        b = u.find(edge['p2'])\n",
    "        if a != b:\n",
    "            if edge['w'] <= threshold[a] and edge['w'] <= threshold[b]:\n",
    "                merged = u.union(a, b)\n",
    "                if merged:\n",
    "                    a_new = u.find(a)\n",
    "                    threshold[a_new] = edge['w'] + c / u.size[a_new]\n",
    "\n",
    "    # 6. 合并小区域\n",
    "    for edge in edges:\n",
    "        a = u.find(edge['p1'])\n",
    "        b = u.find(edge['p2'])\n",
    "        if a != b:\n",
    "            if u.size[a] < min_size or u.size[b] < min_size:\n",
    "                u.union(a, b)\n",
    "\n",
    "    # 7. 给每个点赋标签\n",
    "    labels = np.zeros(N, dtype=int)\n",
    "    label_map = {}\n",
    "    label_id = 0\n",
    "    for i in range(N):\n",
    "        root = u.find(i)\n",
    "        if root not in label_map:\n",
    "            label_map[root] = label_id\n",
    "            label_id += 1\n",
    "        labels[i] = label_map[root]\n",
    "\n",
    "    print(f\"分割得到 {label_id} 个区域\")\n",
    "    return labels"
   ]
  },
  {
   "cell_type": "code",
   "execution_count": 13,
   "id": "b4d16ff0",
   "metadata": {},
   "outputs": [
    {
     "name": "stdout",
     "output_type": "stream",
     "text": [
      "读取网格顶点数: 111342\n"
     ]
    }
   ],
   "source": [
    "# 读取网格\n",
    "mesh = o3d.io.read_triangle_mesh(file_path)\n",
    "if not mesh.has_vertices():\n",
    "    raise RuntimeError(\"网格无顶点\")\n",
    "points = np.asarray(mesh.vertices)\n",
    "print(f\"读取网格顶点数: {len(points)}\")"
   ]
  },
  {
   "cell_type": "code",
   "execution_count": 14,
   "id": "5387a889",
   "metadata": {},
   "outputs": [
    {
     "name": "stdout",
     "output_type": "stream",
     "text": [
      "分割得到 2010 个区域\n"
     ]
    }
   ],
   "source": [
    "labels = segment_pointcloud(points, k=20, c=0.5, min_size=30)"
   ]
  },
  {
   "cell_type": "code",
   "execution_count": 15,
   "id": "bd978aef",
   "metadata": {},
   "outputs": [],
   "source": [
    "# 顶点染色\n",
    "num_clusters = labels.max() + 1\n",
    "colors = np.zeros((len(labels), 3))\n",
    "cmap = plt.get_cmap(\"tab10\")\n",
    "for i in range(num_clusters):\n",
    "    colors[labels == i] = cmap(i / max(1, num_clusters - 1))[:3]\n",
    "mesh.vertex_colors = o3d.utility.Vector3dVector(colors)"
   ]
  },
  {
   "cell_type": "code",
   "execution_count": 16,
   "id": "84f660d0",
   "metadata": {},
   "outputs": [
    {
     "data": {
      "text/plain": [
       "True"
      ]
     },
     "execution_count": 16,
     "metadata": {},
     "output_type": "execute_result"
    }
   ],
   "source": [
    "o3d.io.write_triangle_mesh(\"graphcut_alpha_segment_2004_k=20.ply\",mesh)"
   ]
  },
  {
   "cell_type": "code",
   "execution_count": null,
   "id": "9642738c",
   "metadata": {},
   "outputs": [],
   "source": []
  },
  {
   "cell_type": "code",
   "execution_count": null,
   "id": "d8369077",
   "metadata": {},
   "outputs": [],
   "source": []
  },
  {
   "cell_type": "code",
   "execution_count": null,
   "id": "80f9e034",
   "metadata": {},
   "outputs": [],
   "source": []
  },
  {
   "cell_type": "code",
   "execution_count": null,
   "id": "74080bab",
   "metadata": {},
   "outputs": [
    {
     "data": {
      "text/plain": [
       "True"
      ]
     },
     "metadata": {},
     "output_type": "display_data"
    }
   ],
   "source": [
    "o3d.io.write_triangle_mesh(\"graphcut_alpha_segment2_k=16.ply\",mesh)"
   ]
  }
 ],
 "metadata": {
  "kernelspec": {
   "display_name": "pytorch",
   "language": "python",
   "name": "python3"
  },
  "language_info": {
   "codemirror_mode": {
    "name": "ipython",
    "version": 3
   },
   "file_extension": ".py",
   "mimetype": "text/x-python",
   "name": "python",
   "nbconvert_exporter": "python",
   "pygments_lexer": "ipython3",
   "version": "3.8.19"
  }
 },
 "nbformat": 4,
 "nbformat_minor": 5
}
