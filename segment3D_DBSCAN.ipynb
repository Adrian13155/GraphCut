{
 "cells": [
  {
   "cell_type": "code",
   "execution_count": 5,
   "id": "f3d58f11",
   "metadata": {},
   "outputs": [],
   "source": [
    "import open3d as o3d\n",
    "import numpy as np\n",
    "from sklearn.neighbors import NearestNeighbors\n",
    "import os\n",
    "import random"
   ]
  },
  {
   "cell_type": "code",
   "execution_count": 2,
   "id": "d7c7379c",
   "metadata": {},
   "outputs": [],
   "source": [
    "datasetPath = \"/PublicData/CadDataset/a1.0.0_10\"\n",
    "part = \"140294_f659b875\"\n",
    "name = \"assembly.obj\"\n",
    "file_path = os.path.join(datasetPath,part,name)"
   ]
  },
  {
   "cell_type": "code",
   "execution_count": 3,
   "id": "ed74cce9",
   "metadata": {},
   "outputs": [
    {
     "data": {
      "text/plain": [
       "TriangleMesh with 111342 points and 122916 triangles."
      ]
     },
     "execution_count": 3,
     "metadata": {},
     "output_type": "execute_result"
    }
   ],
   "source": [
    "num_sample_points = 300000\n",
    "\n",
    "mesh = o3d.io.read_triangle_mesh(file_path)\n",
    "mesh.compute_vertex_normals()"
   ]
  },
  {
   "cell_type": "code",
   "execution_count": 4,
   "id": "bd9e7e01",
   "metadata": {},
   "outputs": [
    {
     "name": "stdout",
     "output_type": "stream",
     "text": [
      "Sampled 300000 points\n"
     ]
    }
   ],
   "source": [
    "pcd = mesh.sample_points_poisson_disk(number_of_points=num_sample_points)\n",
    "print(f\"Sampled {len(pcd.points)} points\")"
   ]
  },
  {
   "cell_type": "code",
   "execution_count": 6,
   "id": "ac21a9b5",
   "metadata": {},
   "outputs": [
    {
     "name": "stdout",
     "output_type": "stream",
     "text": [
      "Downsampled to 300000 points\n"
     ]
    }
   ],
   "source": [
    "# 降采样，减少点数，提高聚类速度\n",
    "voxel_size = 0.01  # 可调节\n",
    "pcd_down = pcd.voxel_down_sample(voxel_size=voxel_size)\n",
    "print(f\"Downsampled to {len(pcd_down.points)} points\")"
   ]
  },
  {
   "cell_type": "code",
   "execution_count": 7,
   "id": "5d823a52",
   "metadata": {},
   "outputs": [
    {
     "name": "stdout",
     "output_type": "stream",
     "text": [
      "Precompute neighbors.[========================================] 100%\n",
      "DBSCAN found 0 clusters\n"
     ]
    }
   ],
   "source": [
    "# DBSCAN聚类\n",
    "labels = np.array(\n",
    "    pcd_down.cluster_dbscan(eps=0.02, min_points=20, print_progress=True)\n",
    ")\n",
    "num_clusters = labels.max() + 1\n",
    "print(f\"DBSCAN found {num_clusters} clusters\")"
   ]
  },
  {
   "cell_type": "code",
   "execution_count": 8,
   "id": "2a150f5a",
   "metadata": {},
   "outputs": [],
   "source": [
    "# 上色\n",
    "colors = np.zeros((len(labels), 3))\n",
    "for label in np.unique(labels):\n",
    "    if label == -1:\n",
    "        colors[labels == label] = [0, 0, 0]\n",
    "    else:\n",
    "        colors[labels == label] = [random.random(), random.random(), random.random()]\n",
    "pcd_down.colors = o3d.utility.Vector3dVector(colors)"
   ]
  },
  {
   "cell_type": "code",
   "execution_count": 9,
   "id": "a0b95b0f",
   "metadata": {},
   "outputs": [
    {
     "data": {
      "text/plain": [
       "True"
      ]
     },
     "execution_count": 9,
     "metadata": {},
     "output_type": "execute_result"
    }
   ],
   "source": [
    "# 保存和显示\n",
    "o3d.io.write_point_cloud(\"fast_dbscan_segmentation.ply\", pcd_down)"
   ]
  }
 ],
 "metadata": {
  "kernelspec": {
   "display_name": "pytorch",
   "language": "python",
   "name": "python3"
  },
  "language_info": {
   "codemirror_mode": {
    "name": "ipython",
    "version": 3
   },
   "file_extension": ".py",
   "mimetype": "text/x-python",
   "name": "python",
   "nbconvert_exporter": "python",
   "pygments_lexer": "ipython3",
   "version": "3.8.19"
  }
 },
 "nbformat": 4,
 "nbformat_minor": 5
}
